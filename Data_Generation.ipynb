{
 "cells": [
  {
   "cell_type": "code",
   "execution_count": 17,
   "id": "97794ceb",
   "metadata": {},
   "outputs": [],
   "source": [
    "import matplotlib\n",
    "import matplotlib.pyplot as plt\n",
    "import numpy as np\n",
    "import pandas as pd\n",
    "import cosmology\n",
    "from galaxy_catalog import *\n",
    "from cosmos import COSMOSCatalog\n",
    "from cosmos import *\n",
    "import pickle\n",
    "# cosmology package is under cosmology.py"
   ]
  },
  {
   "cell_type": "code",
   "execution_count": 18,
   "id": "f5b9b433",
   "metadata": {},
   "outputs": [],
   "source": [
    "# store the COSMOS HST F814W data as a catalog\n",
    "catalog = COSMOSCatalog('/Users/ruby/Documents/COSMOS_23.5_training_sample')"
   ]
  },
  {
   "cell_type": "code",
   "execution_count": 19,
   "id": "6888b844",
   "metadata": {},
   "outputs": [],
   "source": [
    "# Saves data for the model\n",
    "def save(object, filename):\n",
    "    with open(filename + '.pickle', 'wb') as f:\n",
    "        pickle.dump(object, f)"
   ]
  },
  {
   "cell_type": "code",
   "execution_count": 20,
   "id": "078c620a",
   "metadata": {},
   "outputs": [],
   "source": [
    "# helper function\n",
    "def draw_box(x, y, **kwargs):\n",
    "    \"\"\"Draw rectangle, given x-y boundary tuples\"\"\"\n",
    "    plt.gca().add_patch(\n",
    "        matplotlib.patches.Rectangle(\n",
    "            (x[0], y[0]), x[1] - x[0], y[1] - y[0], facecolor=\"none\", **kwargs\n",
    "        )\n",
    "    )"
   ]
  },
  {
   "cell_type": "code",
   "execution_count": 21,
   "id": "0bf73fe4",
   "metadata": {},
   "outputs": [
    {
     "data": {
      "image/png": "[encoded data removed]",
      "text/plain": [
       "<Figure size 432x288 with 2 Axes>"
      ]
     },
     "metadata": {
      "needs_background": "light"
     },
     "output_type": "display_data"
    }
   ],
   "source": [
    "magnitude_range = (16, 20)\n",
    "redshift_range = (0, 1)\n",
    "x, y = catalog.catalog['mag_auto'], catalog.catalog['zphot']\n",
    "plt.hist2d(x, y, bins=(np.linspace(16, 23.5, 50), np.linspace(0, 5, 50)), norm=matplotlib.colors.LogNorm()) \n",
    "plt.colorbar(label='Galaxies/bin')\n",
    "draw_box(magnitude_range, redshift_range, edgecolor='r')\n",
    "\n",
    "selection_mask = ((magnitude_range[0] <= x) & (x < magnitude_range[1])\n",
    "                  & (redshift_range[0] <= y) & (y < redshift_range[1]))\n",
    "\n",
    "                  "
   ]
  },
  {
   "cell_type": "code",
   "execution_count": 22,
   "id": "a2d5c534",
   "metadata": {},
   "outputs": [
    {
     "name": "stdout",
     "output_type": "stream",
     "text": [
      "56062\n",
      "[False False False ... False False False]\n",
      "2418\n"
     ]
    }
   ],
   "source": [
    "print(selection_mask.size)\n",
    "print(selection_mask)\n",
    "count = np.count_nonzero(selection_mask)\n",
    "print(count)"
   ]
  },
  {
   "cell_type": "markdown",
   "id": "5a14d23a",
   "metadata": {},
   "source": [
    "### Draw Metadata\n"
   ]
  },
  {
   "cell_type": "code",
   "execution_count": 23,
   "id": "a9a66f50",
   "metadata": {},
   "outputs": [
    {
     "data": {
      "text/html": [
       "<div>\n",
       "<style scoped>\n",
       "    .dataframe tbody tr th:only-of-type {\n",
       "        vertical-align: middle;\n",
       "    }\n",
       "\n",
       "    .dataframe tbody tr th {\n",
       "        vertical-align: top;\n",
       "    }\n",
       "\n",
       "    .dataframe thead th {\n",
       "        text-align: right;\n",
       "    }\n",
       "</style>\n",
       "<table border=\"1\" class=\"dataframe\">\n",
       "  <thead>\n",
       "    <tr style=\"text-align: right;\">\n",
       "      <th></th>\n",
       "      <th>source_index</th>\n",
       "      <th>source_rotation</th>\n",
       "      <th>theta_E</th>\n",
       "      <th>gamma</th>\n",
       "      <th>e1</th>\n",
       "      <th>e2</th>\n",
       "      <th>center_x</th>\n",
       "      <th>center_y</th>\n",
       "      <th>gamma1</th>\n",
       "      <th>gamma2</th>\n",
       "      <th>fileName</th>\n",
       "    </tr>\n",
       "  </thead>\n",
       "  <tbody>\n",
       "    <tr>\n",
       "      <th>0</th>\n",
       "      <td>43309</td>\n",
       "      <td>5.001429</td>\n",
       "      <td>0.854020</td>\n",
       "      <td>2.026982</td>\n",
       "      <td>0.026039</td>\n",
       "      <td>-0.015996</td>\n",
       "      <td>0.115031</td>\n",
       "      <td>0.010383</td>\n",
       "      <td>0.012669</td>\n",
       "      <td>0.007547</td>\n",
       "      <td>0</td>\n",
       "    </tr>\n",
       "    <tr>\n",
       "      <th>1</th>\n",
       "      <td>39287</td>\n",
       "      <td>4.748178</td>\n",
       "      <td>0.854966</td>\n",
       "      <td>2.067258</td>\n",
       "      <td>-0.002492</td>\n",
       "      <td>-0.044356</td>\n",
       "      <td>0.110256</td>\n",
       "      <td>0.047073</td>\n",
       "      <td>0.015884</td>\n",
       "      <td>0.093915</td>\n",
       "      <td>1</td>\n",
       "    </tr>\n",
       "    <tr>\n",
       "      <th>2</th>\n",
       "      <td>32784</td>\n",
       "      <td>1.643618</td>\n",
       "      <td>1.175890</td>\n",
       "      <td>2.084988</td>\n",
       "      <td>0.038158</td>\n",
       "      <td>0.010378</td>\n",
       "      <td>0.172109</td>\n",
       "      <td>0.141291</td>\n",
       "      <td>0.033425</td>\n",
       "      <td>0.123702</td>\n",
       "      <td>2</td>\n",
       "    </tr>\n",
       "    <tr>\n",
       "      <th>3</th>\n",
       "      <td>37799</td>\n",
       "      <td>2.629219</td>\n",
       "      <td>1.126457</td>\n",
       "      <td>2.087138</td>\n",
       "      <td>-0.046031</td>\n",
       "      <td>0.047605</td>\n",
       "      <td>0.049967</td>\n",
       "      <td>0.083221</td>\n",
       "      <td>0.142890</td>\n",
       "      <td>0.104579</td>\n",
       "      <td>3</td>\n",
       "    </tr>\n",
       "    <tr>\n",
       "      <th>4</th>\n",
       "      <td>32141</td>\n",
       "      <td>5.508402</td>\n",
       "      <td>0.971638</td>\n",
       "      <td>2.097326</td>\n",
       "      <td>-0.008579</td>\n",
       "      <td>-0.022994</td>\n",
       "      <td>0.071486</td>\n",
       "      <td>0.199727</td>\n",
       "      <td>0.054893</td>\n",
       "      <td>0.029188</td>\n",
       "      <td>4</td>\n",
       "    </tr>\n",
       "  </tbody>\n",
       "</table>\n",
       "</div>"
      ],
      "text/plain": [
       "   source_index  source_rotation   theta_E     gamma        e1        e2  \\\n",
       "0         43309         5.001429  0.854020  2.026982  0.026039 -0.015996   \n",
       "1         39287         4.748178  0.854966  2.067258 -0.002492 -0.044356   \n",
       "2         32784         1.643618  1.175890  2.084988  0.038158  0.010378   \n",
       "3         37799         2.629219  1.126457  2.087138 -0.046031  0.047605   \n",
       "4         32141         5.508402  0.971638  2.097326 -0.008579 -0.022994   \n",
       "\n",
       "   center_x  center_y    gamma1    gamma2  fileName  \n",
       "0  0.115031  0.010383  0.012669  0.007547         0  \n",
       "1  0.110256  0.047073  0.015884  0.093915         1  \n",
       "2  0.172109  0.141291  0.033425  0.123702         2  \n",
       "3  0.049967  0.083221  0.142890  0.104579         3  \n",
       "4  0.071486  0.199727  0.054893  0.029188         4  "
      ]
     },
     "execution_count": 23,
     "metadata": {},
     "output_type": "execute_result"
    }
   ],
   "source": [
    "n_images = count * 10\n",
    "\n",
    "md = dict()\n",
    "\n",
    "# index in the catalog of the galaxy image to use\n",
    "md['source_index'] = catalog.sample_indices(n_images, selection_mask)\n",
    "\n",
    "# rotation (in radians) to give the source image\n",
    "md['source_rotation'] = 2.0 * np.pi * np.random.rand(n_images)\n",
    "\n",
    "# Einstein radius (in arcseconds) of the lens\n",
    "md['theta_E'] = np.random.uniform(0.8, 1.2, n_images)\n",
    "\n",
    "# Exponent of the lens' power-law mass distribution\n",
    "md['gamma'] = 2.0 + 0.1 * np.random.rand(n_images)\n",
    "\n",
    "# ellipticity components of the lens\n",
    "md['e1'], md['e2'] = np.random.uniform(-0.05, 0.05, (2, n_images))\n",
    "\n",
    "# location of the lens (in arcseconds) in the image\n",
    "md['center_x'], md['center_y'] = 0.2 * np.random.rand(2, n_images)\n",
    "\n",
    "# External shear components\n",
    "md['gamma1'], md['gamma2'] = 0.16 * np.random.rand(2, n_images)\n",
    "\n",
    "md['fileName'] = np.arange(n_images)\n",
    "\n",
    "# save this to a csv\n",
    "csvfile = pd.DataFrame(md)\n",
    "imageDict = csvfile.to_dict('records')\n",
    "csvfile.head()\n",
    "# save the csv file here"
   ]
  },
  {
   "cell_type": "code",
   "execution_count": 24,
   "id": "21c9d9c8",
   "metadata": {},
   "outputs": [
    {
     "name": "stdout",
     "output_type": "stream",
     "text": [
      "2418\n"
     ]
    }
   ],
   "source": [
    "print(np.unique(md['source_index']).size)"
   ]
  },
  {
   "cell_type": "code",
   "execution_count": 25,
   "id": "5d28b661",
   "metadata": {},
   "outputs": [],
   "source": [
    "all_indices = np.unique(md['source_index'])"
   ]
  },
  {
   "cell_type": "markdown",
   "id": "be04a89c",
   "metadata": {},
   "source": [
    "### Produce Images"
   ]
  },
  {
   "cell_type": "code",
   "execution_count": 26,
   "id": "3899b7ba",
   "metadata": {},
   "outputs": [
    {
     "name": "stdout",
     "output_type": "stream",
     "text": [
      "Train: 2018, Val: 200, Test: 200\n"
     ]
    }
   ],
   "source": [
    "# two random indices\n",
    "n = 200\n",
    "index_val = np.random.choice(all_indices.shape[0], n, replace=False)\n",
    "val_indices = all_indices[index_val]\n",
    "new_all_indices = np.delete(all_indices, index_val)\n",
    "index_test = np.random.choice(new_all_indices.shape[0], n, replace=False)\n",
    "test_indices = new_all_indices[index_test]\n",
    "train_indices = np.delete(new_all_indices, index_test)\n",
    "\n",
    "print(\"Train: {}, Val: {}, Test: {}\".format(train_indices.size, val_indices.size, test_indices.size))\n"
   ]
  },
  {
   "cell_type": "code",
   "execution_count": 27,
   "id": "4c980c1a",
   "metadata": {},
   "outputs": [],
   "source": [
    "from lensmaker import *\n",
    "\n",
    "lens_maker = LensMaker(catalog=catalog, pixel_width=0.08)"
   ]
  },
  {
   "cell_type": "code",
   "execution_count": 32,
   "id": "90cf1710",
   "metadata": {},
   "outputs": [
    {
     "data": {
      "text/plain": [
       "\"   \\n    plot = False\\n    if plot:\\n        f, axes = plt.subplots(ncols=2, figsize=(12,4))\\n        plt.sca(axes[0])\\n        plot_image(unlensed_img, lens_maker.pixel_width)\\n        plt.title('Unlensed')\\n        \\n        plt.sca(axes[-1])\\n        plot_image(lensed_img, lens_maker.pixel_width)\\n        plt.title('Lensed')\\n        plt.show()\\n        \\n \""
      ]
     },
     "execution_count": 32,
     "metadata": {},
     "output_type": "execute_result"
    }
   ],
   "source": [
    "\n",
    "plot = True\n",
    "\n",
    "# create a 'dummy' lens that does not lens at all\n",
    "no_lens = [('SIS', dict(theta_E=0))]\n",
    "\n",
    "for i in range(n_images):\n",
    "    source_kwargs = dict(catalog_i=md['source_index'][i],\n",
    "                        phi=md['source_rotation'][i])\n",
    "    \n",
    "    unlensed_img = lens_maker.lensed_image(lenses=no_lens, **source_kwargs)\n",
    "    \n",
    "    lensed_img = lens_maker.lensed_image(lenses=[\n",
    "        ('SIE', {k: md[k][i] for k in 'theta_E e1 e2 center_x center_y'.split()}),\n",
    "        ('SHEAR', {k: md[k][i] for k in 'gamma1 gamma2'.split()})], **source_kwargs)\n",
    "    \n",
    "    # save to file\n",
    "    if (md['source_index'][i] in test_indices):\n",
    "        path = \"/Users/ruby/Documents/test\"\n",
    "    elif (md['source_index'][i] in val_indices):\n",
    "        path = \"/Users/ruby/Documents/val\"\n",
    "    else:\n",
    "        path = \"/Users/ruby/Documents/train\"\n",
    "        \n",
    "    #unlensed_img_name = \"{}/Unlensed/{}\".format(path, i)\n",
    "    np.save(path+'/Unlensed/'+str(i), unlensed_img)\n",
    "    \n",
    "    #lensed_img_name = \"{}/Lensed/{}\".format(path, i)\n",
    "    np.save(path+'/Lensed/'+str(i), lensed_img)\n",
    "    \n",
    "    # these images are now just arrays of floats\n",
    "   \n",
    "    plot = False\n",
    "    if plot:\n",
    "        f, axes = plt.subplots(ncols=2, figsize=(12,4))\n",
    "        plt.sca(axes[0])\n",
    "        plot_image(unlensed_img, lens_maker.pixel_width)\n",
    "        plt.title('Unlensed')\n",
    "        \n",
    "        plt.sca(axes[-1])\n",
    "        plot_image(lensed_img, lens_maker.pixel_width)\n",
    "        plt.title('Lensed')\n",
    "        plt.show()\n",
    "        \n",
    "      \n",
    "    "
   ]
  },
  {
   "cell_type": "markdown",
   "id": "35fe98c8",
   "metadata": {},
   "source": [
    "### Train/Val/Test Split in CSV files using 'source_id'\n",
    "We can save the train/val/test split to .csv files with each source's individual source id."
   ]
  },
  {
   "cell_type": "code",
   "execution_count": 33,
   "id": "03d2aa8b",
   "metadata": {},
   "outputs": [],
   "source": [
    "train_file = \"/Users/ruby/Documents/train/train_params.csv\"\n",
    "val_file = \"/Users/ruby/Documents/val/val_params.csv\"\n",
    "test_file = \"/Users/ruby/Documents/test/test_params.csv\"\n",
    "\n",
    "params_val = csvfile.loc[csvfile['source_index'].isin(val_indices)]\n",
    "params_val.to_csv(val_file, index=False, header=True)\n",
    "\n",
    "params_test = csvfile.loc[csvfile['source_index'].isin(test_indices)]\n",
    "params_test.to_csv(test_file, index=False, header=True)\n",
    "\n",
    "params_train = csvfile.loc[csvfile['source_index'].isin(train_indices)]\n",
    "params_train.to_csv(train_file, index=False, header=True)\n",
    "\n",
    "# could save the 'csvfile' to a .npy file here \n"
   ]
  },
  {
   "cell_type": "code",
   "execution_count": 34,
   "id": "aa240176",
   "metadata": {},
   "outputs": [
    {
     "data": {
      "text/html": [
       "<div>\n",
       "<style scoped>\n",
       "    .dataframe tbody tr th:only-of-type {\n",
       "        vertical-align: middle;\n",
       "    }\n",
       "\n",
       "    .dataframe tbody tr th {\n",
       "        vertical-align: top;\n",
       "    }\n",
       "\n",
       "    .dataframe thead th {\n",
       "        text-align: right;\n",
       "    }\n",
       "</style>\n",
       "<table border=\"1\" class=\"dataframe\">\n",
       "  <thead>\n",
       "    <tr style=\"text-align: right;\">\n",
       "      <th></th>\n",
       "      <th>source_index</th>\n",
       "      <th>source_rotation</th>\n",
       "      <th>theta_E</th>\n",
       "      <th>gamma</th>\n",
       "      <th>e1</th>\n",
       "      <th>e2</th>\n",
       "      <th>center_x</th>\n",
       "      <th>center_y</th>\n",
       "      <th>gamma1</th>\n",
       "      <th>gamma2</th>\n",
       "      <th>fileName</th>\n",
       "    </tr>\n",
       "  </thead>\n",
       "  <tbody>\n",
       "    <tr>\n",
       "      <th>0</th>\n",
       "      <td>43309</td>\n",
       "      <td>5.001429</td>\n",
       "      <td>0.854020</td>\n",
       "      <td>2.026982</td>\n",
       "      <td>0.026039</td>\n",
       "      <td>-0.015996</td>\n",
       "      <td>0.115031</td>\n",
       "      <td>0.010383</td>\n",
       "      <td>0.012669</td>\n",
       "      <td>0.007547</td>\n",
       "      <td>0</td>\n",
       "    </tr>\n",
       "    <tr>\n",
       "      <th>1</th>\n",
       "      <td>39287</td>\n",
       "      <td>4.748178</td>\n",
       "      <td>0.854966</td>\n",
       "      <td>2.067258</td>\n",
       "      <td>-0.002492</td>\n",
       "      <td>-0.044356</td>\n",
       "      <td>0.110256</td>\n",
       "      <td>0.047073</td>\n",
       "      <td>0.015884</td>\n",
       "      <td>0.093915</td>\n",
       "      <td>1</td>\n",
       "    </tr>\n",
       "    <tr>\n",
       "      <th>2</th>\n",
       "      <td>32784</td>\n",
       "      <td>1.643618</td>\n",
       "      <td>1.175890</td>\n",
       "      <td>2.084988</td>\n",
       "      <td>0.038158</td>\n",
       "      <td>0.010378</td>\n",
       "      <td>0.172109</td>\n",
       "      <td>0.141291</td>\n",
       "      <td>0.033425</td>\n",
       "      <td>0.123702</td>\n",
       "      <td>2</td>\n",
       "    </tr>\n",
       "    <tr>\n",
       "      <th>3</th>\n",
       "      <td>37799</td>\n",
       "      <td>2.629219</td>\n",
       "      <td>1.126457</td>\n",
       "      <td>2.087138</td>\n",
       "      <td>-0.046031</td>\n",
       "      <td>0.047605</td>\n",
       "      <td>0.049967</td>\n",
       "      <td>0.083221</td>\n",
       "      <td>0.142890</td>\n",
       "      <td>0.104579</td>\n",
       "      <td>3</td>\n",
       "    </tr>\n",
       "    <tr>\n",
       "      <th>4</th>\n",
       "      <td>32141</td>\n",
       "      <td>5.508402</td>\n",
       "      <td>0.971638</td>\n",
       "      <td>2.097326</td>\n",
       "      <td>-0.008579</td>\n",
       "      <td>-0.022994</td>\n",
       "      <td>0.071486</td>\n",
       "      <td>0.199727</td>\n",
       "      <td>0.054893</td>\n",
       "      <td>0.029188</td>\n",
       "      <td>4</td>\n",
       "    </tr>\n",
       "    <tr>\n",
       "      <th>...</th>\n",
       "      <td>...</td>\n",
       "      <td>...</td>\n",
       "      <td>...</td>\n",
       "      <td>...</td>\n",
       "      <td>...</td>\n",
       "      <td>...</td>\n",
       "      <td>...</td>\n",
       "      <td>...</td>\n",
       "      <td>...</td>\n",
       "      <td>...</td>\n",
       "      <td>...</td>\n",
       "    </tr>\n",
       "    <tr>\n",
       "      <th>24173</th>\n",
       "      <td>9181</td>\n",
       "      <td>2.464594</td>\n",
       "      <td>1.118457</td>\n",
       "      <td>2.079749</td>\n",
       "      <td>-0.026120</td>\n",
       "      <td>0.004159</td>\n",
       "      <td>0.120749</td>\n",
       "      <td>0.009699</td>\n",
       "      <td>0.120605</td>\n",
       "      <td>0.043512</td>\n",
       "      <td>24173</td>\n",
       "    </tr>\n",
       "    <tr>\n",
       "      <th>24174</th>\n",
       "      <td>47748</td>\n",
       "      <td>3.876307</td>\n",
       "      <td>1.186976</td>\n",
       "      <td>2.004956</td>\n",
       "      <td>-0.033466</td>\n",
       "      <td>-0.035105</td>\n",
       "      <td>0.000166</td>\n",
       "      <td>0.194274</td>\n",
       "      <td>0.096477</td>\n",
       "      <td>0.015120</td>\n",
       "      <td>24174</td>\n",
       "    </tr>\n",
       "    <tr>\n",
       "      <th>24176</th>\n",
       "      <td>10446</td>\n",
       "      <td>2.223867</td>\n",
       "      <td>1.024033</td>\n",
       "      <td>2.027992</td>\n",
       "      <td>0.007728</td>\n",
       "      <td>0.043217</td>\n",
       "      <td>0.168448</td>\n",
       "      <td>0.037518</td>\n",
       "      <td>0.154170</td>\n",
       "      <td>0.018493</td>\n",
       "      <td>24176</td>\n",
       "    </tr>\n",
       "    <tr>\n",
       "      <th>24177</th>\n",
       "      <td>50795</td>\n",
       "      <td>3.426419</td>\n",
       "      <td>0.884757</td>\n",
       "      <td>2.097154</td>\n",
       "      <td>0.031485</td>\n",
       "      <td>-0.026498</td>\n",
       "      <td>0.159841</td>\n",
       "      <td>0.076907</td>\n",
       "      <td>0.108484</td>\n",
       "      <td>0.030549</td>\n",
       "      <td>24177</td>\n",
       "    </tr>\n",
       "    <tr>\n",
       "      <th>24179</th>\n",
       "      <td>48675</td>\n",
       "      <td>4.040800</td>\n",
       "      <td>1.010886</td>\n",
       "      <td>2.072481</td>\n",
       "      <td>-0.046222</td>\n",
       "      <td>-0.044320</td>\n",
       "      <td>0.196466</td>\n",
       "      <td>0.108027</td>\n",
       "      <td>0.143124</td>\n",
       "      <td>0.112847</td>\n",
       "      <td>24179</td>\n",
       "    </tr>\n",
       "  </tbody>\n",
       "</table>\n",
       "<p>20206 rows × 11 columns</p>\n",
       "</div>"
      ],
      "text/plain": [
       "       source_index  source_rotation   theta_E     gamma        e1        e2  \\\n",
       "0             43309         5.001429  0.854020  2.026982  0.026039 -0.015996   \n",
       "1             39287         4.748178  0.854966  2.067258 -0.002492 -0.044356   \n",
       "2             32784         1.643618  1.175890  2.084988  0.038158  0.010378   \n",
       "3             37799         2.629219  1.126457  2.087138 -0.046031  0.047605   \n",
       "4             32141         5.508402  0.971638  2.097326 -0.008579 -0.022994   \n",
       "...             ...              ...       ...       ...       ...       ...   \n",
       "24173          9181         2.464594  1.118457  2.079749 -0.026120  0.004159   \n",
       "24174         47748         3.876307  1.186976  2.004956 -0.033466 -0.035105   \n",
       "24176         10446         2.223867  1.024033  2.027992  0.007728  0.043217   \n",
       "24177         50795         3.426419  0.884757  2.097154  0.031485 -0.026498   \n",
       "24179         48675         4.040800  1.010886  2.072481 -0.046222 -0.044320   \n",
       "\n",
       "       center_x  center_y    gamma1    gamma2  fileName  \n",
       "0      0.115031  0.010383  0.012669  0.007547         0  \n",
       "1      0.110256  0.047073  0.015884  0.093915         1  \n",
       "2      0.172109  0.141291  0.033425  0.123702         2  \n",
       "3      0.049967  0.083221  0.142890  0.104579         3  \n",
       "4      0.071486  0.199727  0.054893  0.029188         4  \n",
       "...         ...       ...       ...       ...       ...  \n",
       "24173  0.120749  0.009699  0.120605  0.043512     24173  \n",
       "24174  0.000166  0.194274  0.096477  0.015120     24174  \n",
       "24176  0.168448  0.037518  0.154170  0.018493     24176  \n",
       "24177  0.159841  0.076907  0.108484  0.030549     24177  \n",
       "24179  0.196466  0.108027  0.143124  0.112847     24179  \n",
       "\n",
       "[20206 rows x 11 columns]"
      ]
     },
     "execution_count": 34,
     "metadata": {},
     "output_type": "execute_result"
    }
   ],
   "source": [
    "params_train"
   ]
  },
  {
   "cell_type": "markdown",
   "id": "5c6fbd7f",
   "metadata": {},
   "source": [
    "### Visualise Images\n",
    "First, we'll define some functions to help plot the lensed and unlensed images."
   ]
  },
  {
   "cell_type": "code",
   "execution_count": 45,
   "id": "b7cce289",
   "metadata": {},
   "outputs": [],
   "source": [
    "def exporter():\n",
    "    '''Returns export decorator, __all__ list'''\n",
    "    all_ = []\n",
    "    def decorator(obj):\n",
    "        all_.append(obj.__name__)\n",
    "        return obj\n",
    "    return decorator, all_\n",
    "\n",
    "def image_grid(shape, pixel_width, x0=0, y0=0, edges=True):\n",
    "    nx, ny = shape\n",
    "    dx = nx * pixel_width\n",
    "    dy = nx * pixel_width\n",
    "    extra = 1 if edges else 0\n",
    "    x = np.linspace(-dx/2, dx/2, nx + extra) + x0\n",
    "    y = np.linspace(-dy/2, dy/2, ny + extra) + y0\n",
    "    return x, y\n",
    "\n",
    "def plot_image(img, pixel_width, log_scale=True, label=\"HST F814W\", colorbar=True,\n",
    "              adjust_ax=True, vmin=None, vmax=None, **kwargs):\n",
    "    \n",
    "    # set reasonable default settings\n",
    "    if vmax is None:\n",
    "        vmax = img.max()\n",
    "    if vmin is None:\n",
    "        if log_scale:\n",
    "            vmin = vmax * 1e-3\n",
    "        else:\n",
    "            vmin = img.min()\n",
    "    kwargs.setdefault(\"norm\", matplotlib.colors.LogNorm(vmin=vmin, vmax=vmax) if log_scale\n",
    "                      else matplotlib.colors.Normalize(vmin=vmin, vmax=vmax))\n",
    "    \n",
    "    kwargs.setdefault(\"cmap\", \"magma\")\n",
    "    \n",
    "    # now plot the image\n",
    "    plt.pcolormesh(*image_grid(img.shape, pixel_width), img.clip(vmin, None).T, **kwargs)\n",
    "    if adjust_ax:\n",
    "        plt.gca().set_aspect(\"equal\")\n",
    "        \n",
    "    if colorbar:\n",
    "        # plot colorbar\n",
    "        cbar = plt.colorbar(label=label, extend=\"both\")\n",
    "        cax = cbar.ax\n",
    "        # format the ticks of the colorbar so they're not of the form 10^x\n",
    "        cax.yaxis.set_major_formatter(matplotlib.ticker.FormatStrFormatter(\"%g\"))\n",
    "        if len(cbar.get_ticks()) < 2:\n",
    "            # if there are only few colorbar ticks, get minor ticks too\n",
    "            cax.yaxis.set_minor_formatter(matplotlib.ticker.FormatStrFormatter(\"%g\"))\n",
    "            cax.tick_params(axis=\"y\", labelsize=7, which=\"minor\")\n",
    "    \n",
    "    plt.xlabel(\"[Arcseconds]\")\n",
    "    plt.ylabel(\"[Arcseconds]\")\n",
    "    \n",
    "    \n",
    "        "
   ]
  },
  {
   "cell_type": "code",
   "execution_count": 46,
   "id": "75dad7d8",
   "metadata": {},
   "outputs": [
    {
     "data": {
      "text/plain": [
       "1.6304888742902544"
      ]
     },
     "execution_count": 46,
     "metadata": {},
     "output_type": "execute_result"
    }
   ],
   "source": [
    "datafile = np.load(\"/Users/ruby/Documents/train/Lensed/24168.npy\")\n",
    "np.amax(datafile)"
   ]
  },
  {
   "cell_type": "code",
   "execution_count": 47,
   "id": "98bdb8e5",
   "metadata": {},
   "outputs": [
    {
     "data": {
      "text/plain": [
       "(64, 64)"
      ]
     },
     "execution_count": 47,
     "metadata": {},
     "output_type": "execute_result"
    },
    {
     "data": {
      "image/png": "[encoded data removed]",
      "text/plain": [
       "<Figure size 432x288 with 2 Axes>"
      ]
     },
     "metadata": {
      "needs_background": "light"
     },
     "output_type": "display_data"
    }
   ],
   "source": [
    "plot_image(datafile, pixel_width=0.08)\n",
    "datafile.shape"
   ]
  },
  {
   "cell_type": "markdown",
   "id": "a262ef6b",
   "metadata": {},
   "source": [
    "Now, let's visualise the training data."
   ]
  },
  {
   "cell_type": "code",
   "execution_count": 49,
   "id": "b04a075a",
   "metadata": {},
   "outputs": [
    {
     "name": "stdout",
     "output_type": "stream",
     "text": [
      "/Users/ruby/Documents/train/Lensed/531.npy\n",
      "20206\n"
     ]
    }
   ],
   "source": [
    "train_path = \"/Users/ruby/Documents/train/Lensed\"\n",
    "\n",
    "import os\n",
    "\n",
    "train_imgs = [os.path.join(train_path, f) for f in os.listdir(train_path) if\n",
    "             os.path.isfile(os.path.join(train_path, f)) and f.lower().endswith('.npy')]\n",
    "\n",
    "print(train_imgs[0])\n",
    "print(len(train_imgs))\n"
   ]
  },
  {
   "cell_type": "markdown",
   "id": "c62ec5bb",
   "metadata": {},
   "source": [
    "Plot some of the images in the 'Lensed' training data."
   ]
  },
  {
   "cell_type": "code",
   "execution_count": 52,
   "id": "296ac203",
   "metadata": {},
   "outputs": [
    {
     "data": {
      "image/png": "[encoded data removed]",
      "text/plain": [
       "<Figure size 720x720 with 25 Axes>"
      ]
     },
     "metadata": {},
     "output_type": "display_data"
    }
   ],
   "source": [
    "plt.figure(figsize=(10,10))\n",
    "for i in range(25):\n",
    "    plt.subplot(5, 5, i+1)\n",
    "    plt.xticks([])\n",
    "    plt.yticks([])\n",
    "    plt.grid(False)\n",
    "    # we will need to normalise the images to plot them\n",
    "    img = np.load(train_imgs[i])/255\n",
    "    plt.imshow(img, cmap=plt.cm.binary)\n",
    "plt.show()"
   ]
  },
  {
   "cell_type": "code",
   "execution_count": 53,
   "id": "43e4cccd",
   "metadata": {},
   "outputs": [
    {
     "name": "stdout",
     "output_type": "stream",
     "text": [
      "20206 20206\n",
      "2003 2003\n",
      "1971 1971\n"
     ]
    }
   ],
   "source": [
    "print(len(os.listdir(\"/Users/ruby/Documents/train/Lensed\")),\n",
    "     len(os.listdir(\"/Users/ruby/Documents/train/Unlensed\")))\n",
    "\n",
    "print(len(os.listdir(\"/Users/ruby/Documents/val/Lensed\")), \n",
    "     len(os.listdir(\"/Users/ruby/Documents/val/Unlensed\")))\n",
    "\n",
    "print(len(os.listdir(\"/Users/ruby/Documents/test/Lensed\")),\n",
    "     len(os.listdir(\"/Users/ruby/Documents/test/Unlensed\")))"
   ]
  },
  {
   "cell_type": "markdown",
   "id": "f559f6be",
   "metadata": {},
   "source": [
    "Therefore, we have generated $20206$, $2003$ and $1971$ strong galaxy-galaxy gravitational lenses and non-lenses for training, validation and testing, respectively."
   ]
  },
  {
   "cell_type": "code",
   "execution_count": null,
   "id": "36870d69",
   "metadata": {},
   "outputs": [],
   "source": []
  }
 ],
 "metadata": {
  "kernelspec": {
   "display_name": "Python [conda env:tf2] *",
   "language": "python",
   "name": "conda-env-tf2-py"
  },
  "language_info": {
   "codemirror_mode": {
    "name": "ipython",
    "version": 3
   },
   "file_extension": ".py",
   "mimetype": "text/x-python",
   "name": "python",
   "nbconvert_exporter": "python",
   "pygments_lexer": "ipython3",
   "version": "3.7.16"
  }
 },
 "nbformat": 4,
 "nbformat_minor": 5
}
